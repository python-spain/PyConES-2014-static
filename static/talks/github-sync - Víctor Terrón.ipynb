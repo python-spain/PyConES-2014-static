{
 "metadata": {
  "name": "",
  "signature": "sha256:d3aabdb89eba5e5bbfafbd0ddd5b03093b76a6550e1d13e7673b5d680531b97a"
 },
 "nbformat": 3,
 "nbformat_minor": 0,
 "worksheets": [
  {
   "cells": [
    {
     "cell_type": "markdown",
     "metadata": {},
     "source": [
      "Clonamos un repositorio de `GitHub`, digamos el de `requests`."
     ]
    },
    {
     "cell_type": "code",
     "collapsed": false,
     "input": [
      "%%bash \n",
      "git clone git@github.com:kennethreitz/requests.git ~/code/requests"
     ],
     "language": "python",
     "metadata": {},
     "outputs": [
      {
       "output_type": "stream",
       "stream": "stdout",
       "text": [
        "Cloning into '/home/vterron/code/requests'...\n"
       ]
      }
     ],
     "prompt_number": 1
    },
    {
     "cell_type": "heading",
     "level": 3,
     "metadata": {},
     "source": [
      "El problema: el desarrollo de `requests` puede continuar, pero nosotros nos quedamos atr\u00e1s, usando una versi\u00f3n cada vez m\u00e1s anticuada. \u00bfSer\u00eda posible determinar de forma autom\u00e1tica si hay nuevos commits disponibles en GitHub? Veamos:"
     ]
    },
    {
     "cell_type": "markdown",
     "metadata": {},
     "source": [
      "El \u00faltimo commit en nuestro repositorio actual lo podemos ver con `git-describe`."
     ]
    },
    {
     "cell_type": "code",
     "collapsed": false,
     "input": [
      "%%bash --out revision\n",
      "cd ~/code/requests\n",
      "git describe --long --dirty --tag --always"
     ],
     "language": "python",
     "metadata": {},
     "outputs": [],
     "prompt_number": 2
    },
    {
     "cell_type": "code",
     "collapsed": false,
     "input": [
      "revision = revision.strip()\n",
      "print \"Revisi\u00f3n:\", revision"
     ],
     "language": "python",
     "metadata": {},
     "outputs": [
      {
       "output_type": "stream",
       "stream": "stdout",
       "text": [
        "Revisi\u00f3n: v2.4.3-32-g431282e\n"
       ]
      }
     ],
     "prompt_number": 3
    },
    {
     "cell_type": "markdown",
     "metadata": {},
     "source": [
      "Ahora necesitamos ver cu\u00e1l es el \u00faltimo commit en GitHub - utilizando la [API](https://developer.github.com/v3/)."
     ]
    },
    {
     "cell_type": "markdown",
     "metadata": {},
     "source": [
      "Determinamos la URL desde la que el repositorio de clon\u00f3:"
     ]
    },
    {
     "cell_type": "code",
     "collapsed": false,
     "input": [
      "%%bash --out origen\n",
      "cd ~/code/requests\n",
      "git config --get remote.origin.url"
     ],
     "language": "python",
     "metadata": {
      "slideshow": {
       "slide_type": "slide"
      }
     },
     "outputs": [],
     "prompt_number": 4
    },
    {
     "cell_type": "code",
     "collapsed": false,
     "input": [
      "print \"Origen:\", origen"
     ],
     "language": "python",
     "metadata": {},
     "outputs": [
      {
       "output_type": "stream",
       "stream": "stdout",
       "text": [
        "Origen: git@github.com:kennethreitz/requests.git\n",
        "\n"
       ]
      }
     ],
     "prompt_number": 5
    },
    {
     "cell_type": "markdown",
     "metadata": {},
     "source": [
      "Para listar los commits en un repositorio tenemos que usar `GET /repos/:owner/:repo/commits`"
     ]
    },
    {
     "cell_type": "markdown",
     "metadata": {},
     "source": [
      "Para componer la URL necesitamos, por tanto, saber tanto el usuario como el nombre del repositorio en GitHub del que se clon\u00f3 nuestro repositorio en GitHub. Eso es f\u00e1cil a partir de la URL que hemos calculado antes."
     ]
    },
    {
     "cell_type": "code",
     "collapsed": false,
     "input": [
      " # Match HTTPS and Git clones from GitHub                                                     \n",
      "REGEXP = \"(git@|https://)github\\.com(:|/)(?P<username>\\w+)/(?P<repository>\\w+).git\"       \n",
      "\n",
      "import re\n",
      "match = re.match(REGEXP, origen)                                                        \n",
      "username = match.group('username')                                                         \n",
      "repository = match.group('repository')                                                       \n",
      "print \"username:\", username\n",
      "print \"repository:\", repository"
     ],
     "language": "python",
     "metadata": {},
     "outputs": [
      {
       "output_type": "stream",
       "stream": "stdout",
       "text": [
        "username: kennethreitz\n",
        "repository: requests\n"
       ]
      }
     ],
     "prompt_number": 6
    },
    {
     "cell_type": "markdown",
     "metadata": {},
     "source": [
      "A partir de estos datos ya podemos componer la URL de la API:"
     ]
    },
    {
     "cell_type": "code",
     "collapsed": false,
     "input": [
      "API_URL = \"https://api.github.com/repos/{0}/{1}/commits?page=1&per_page=1\"\n",
      "url = API_URL.format(username, repository)\n",
      "print \"API URL:\", url"
     ],
     "language": "python",
     "metadata": {},
     "outputs": [
      {
       "output_type": "stream",
       "stream": "stdout",
       "text": [
        "API URL: https://api.github.com/repos/kennethreitz/requests/commits?page=1&per_page=1\n"
       ]
      }
     ],
     "prompt_number": 7
    },
    {
     "cell_type": "markdown",
     "metadata": {},
     "source": [
      "Usamos ahora `requests` para conectarnos y decodificamos el JSON."
     ]
    },
    {
     "cell_type": "code",
     "collapsed": false,
     "input": [
      "import requests\n",
      "\n",
      "headers = {'User-Agent': 'vterron'}\n",
      "kwargs = dict(headers=headers, timeout=10)\n",
      "r = requests.get(url, **kwargs)\n",
      "data = r.json()\n",
      "print data"
     ],
     "language": "python",
     "metadata": {},
     "outputs": [
      {
       "output_type": "stream",
       "stream": "stdout",
       "text": [
        "[{u'committer': {u'following_url': u'https://api.github.com/users/Lukasa/following{/other_user}', u'events_url': u'https://api.github.com/users/Lukasa/events{/privacy}', u'organizations_url': u'https://api.github.com/users/Lukasa/orgs', u'url': u'https://api.github.com/users/Lukasa', u'gists_url': u'https://api.github.com/users/Lukasa/gists{/gist_id}', u'html_url': u'https://github.com/Lukasa', u'subscriptions_url': u'https://api.github.com/users/Lukasa/subscriptions', u'avatar_url': u'https://avatars.githubusercontent.com/u/1382556?v=3', u'repos_url': u'https://api.github.com/users/Lukasa/repos', u'received_events_url': u'https://api.github.com/users/Lukasa/received_events', u'gravatar_id': u'', u'starred_url': u'https://api.github.com/users/Lukasa/starred{/owner}{/repo}', u'site_admin': False, u'login': u'Lukasa', u'type': u'User', u'id': 1382556, u'followers_url': u'https://api.github.com/users/Lukasa/followers'}, u'author': {u'following_url': u'https://api.github.com/users/Lukasa/following{/other_user}', u'events_url': u'https://api.github.com/users/Lukasa/events{/privacy}', u'organizations_url': u'https://api.github.com/users/Lukasa/orgs', u'url': u'https://api.github.com/users/Lukasa', u'gists_url': u'https://api.github.com/users/Lukasa/gists{/gist_id}', u'html_url': u'https://github.com/Lukasa', u'subscriptions_url': u'https://api.github.com/users/Lukasa/subscriptions', u'avatar_url': u'https://avatars.githubusercontent.com/u/1382556?v=3', u'repos_url': u'https://api.github.com/users/Lukasa/repos', u'received_events_url': u'https://api.github.com/users/Lukasa/received_events', u'gravatar_id': u'', u'starred_url': u'https://api.github.com/users/Lukasa/starred{/owner}{/repo}', u'site_admin': False, u'login': u'Lukasa', u'type': u'User', u'id': 1382556, u'followers_url': u'https://api.github.com/users/Lukasa/followers'}, u'url': u'https://api.github.com/repos/kennethreitz/requests/commits/3c850b33397b2bdacec3c2c518bc08299e8b8482', u'comments_url': u'https://api.github.com/repos/kennethreitz/requests/commits/3c850b33397b2bdacec3c2c518bc08299e8b8482/comments', u'html_url': u'https://github.com/kennethreitz/requests/commit/3c850b33397b2bdacec3c2c518bc08299e8b8482', u'sha': u'3c850b33397b2bdacec3c2c518bc08299e8b8482', u'parents': [{u'url': u'https://api.github.com/repos/kennethreitz/requests/commits/ab1f493c8b6f82cbf80f8554b5fbbd02f2b2a363', u'sha': u'ab1f493c8b6f82cbf80f8554b5fbbd02f2b2a363', u'html_url': u'https://github.com/kennethreitz/requests/commit/ab1f493c8b6f82cbf80f8554b5fbbd02f2b2a363'}, {u'url': u'https://api.github.com/repos/kennethreitz/requests/commits/d249c0a9c6dccf2bd63c3d1aad365f37cc4591a1', u'sha': u'd249c0a9c6dccf2bd63c3d1aad365f37cc4591a1', u'html_url': u'https://github.com/kennethreitz/requests/commit/d249c0a9c6dccf2bd63c3d1aad365f37cc4591a1'}], u'commit': {u'committer': {u'date': u'2015-05-21T08:16:24Z', u'name': u'Cory Benfield', u'email': u'lukasaoz@gmail.com'}, u'author': {u'date': u'2015-05-21T08:16:24Z', u'name': u'Cory Benfield', u'email': u'lukasaoz@gmail.com'}, u'url': u'https://api.github.com/repos/kennethreitz/requests/git/commits/3c850b33397b2bdacec3c2c518bc08299e8b8482', u'tree': {u'url': u'https://api.github.com/repos/kennethreitz/requests/git/trees/72f2221bc36685bda116cf1fc00b9bcc103eb923', u'sha': u'72f2221bc36685bda116cf1fc00b9bcc103eb923'}, u'comment_count': 0, u'message': u'Merge pull request #2608 from radarhere/patch-1\\n\\nFixed typos'}}]\n"
       ]
      }
     ],
     "prompt_number": 8
    },
    {
     "cell_type": "markdown",
     "metadata": {},
     "source": [
      "El \u00faltimo commit es el primero de todos."
     ]
    },
    {
     "cell_type": "code",
     "collapsed": false,
     "input": [
      "last_commit = data[0]\n",
      "hash_ = last_commit['sha']\n",
      "date_str = last_commit['commit']['author']['date']\n",
      "print \"SHA1:\", hash_\n",
      "print \"Fecha:\", date_str"
     ],
     "language": "python",
     "metadata": {},
     "outputs": [
      {
       "output_type": "stream",
       "stream": "stdout",
       "text": [
        "SHA1: 3c850b33397b2bdacec3c2c518bc08299e8b8482\n",
        "Fecha: 2015-05-21T08:16:24Z\n"
       ]
      }
     ],
     "prompt_number": 9
    },
    {
     "cell_type": "markdown",
     "metadata": {},
     "source": [
      "Podemos obtener el hash corto con `git-rev-parse`:"
     ]
    },
    {
     "cell_type": "code",
     "collapsed": false,
     "input": [
      "%%bash -s \"$hash_\" --out github_hash  \n",
      "cd ~/code/requests\n",
      "git rev-parse --short $1"
     ],
     "language": "python",
     "metadata": {},
     "outputs": [],
     "prompt_number": 10
    },
    {
     "cell_type": "code",
     "collapsed": false,
     "input": [
      "github_hash = github_hash.strip()\n",
      "print \"SHA1 GitHub:\", github_hash"
     ],
     "language": "python",
     "metadata": {},
     "outputs": [
      {
       "output_type": "stream",
       "stream": "stdout",
       "text": [
        "SHA1 GitHub: 3c850b3\n"
       ]
      }
     ],
     "prompt_number": 11
    },
    {
     "cell_type": "markdown",
     "metadata": {},
     "source": [
      "La fecha est\u00e1 en formato ISO 8601, YYYY-MM-DDTHH:MM:SSZ (UTC). Lo convertimos a tiempo Unix para poder trabajar f\u00e1cilmente."
     ]
    },
    {
     "cell_type": "code",
     "collapsed": false,
     "input": [
      "import time\n",
      "import calendar\n",
      "\n",
      "fmt = \"%Y-%m-%dT%H:%M:%SZ\"                                                                   \n",
      "date_struct = time.strptime(date_str, fmt)                                                   \n",
      "last_github_date = calendar.timegm(date_struct)\n",
      "print \"Fecha (Unix):\", last_github_date"
     ],
     "language": "python",
     "metadata": {},
     "outputs": [
      {
       "output_type": "stream",
       "stream": "stdout",
       "text": [
        " Fecha (Unix): 1432196184\n"
       ]
      }
     ],
     "prompt_number": 13
    },
    {
     "cell_type": "markdown",
     "metadata": {},
     "source": [
      "Si nuestro commit local es el m\u00e1s reciente, el hash de GitHub ser\u00e1 una subcadena de la revisi\u00f3n."
     ]
    },
    {
     "cell_type": "code",
     "collapsed": false,
     "input": [
      "print \"Revisi\u00f3n\", revision\n",
      "print \"SHA1 hash:\", github_hash\n",
      "print github_hash in revision"
     ],
     "language": "python",
     "metadata": {},
     "outputs": [
      {
       "output_type": "stream",
       "stream": "stdout",
       "text": [
        "Revisi\u00f3n v2.4.3-32-g431282e\n",
        "SHA1 hash: 3c850b3\n",
        "False\n"
       ]
      }
     ],
     "prompt_number": 14
    },
    {
     "cell_type": "heading",
     "level": 3,
     "metadata": {},
     "source": [
      "\u00bfY si son diferentes?"
     ]
    },
    {
     "cell_type": "markdown",
     "metadata": {},
     "source": [
      "En caso de que sean diferentes, tenemos que comprobar si la fecha del commit local es m\u00e1s reciente que la del \u00faltimo commit el GitHub. Esto lo hacemos porque en caso de que nos adelantemos al repositorio, si estamos trabajando en \u00e9l, no queremos mostrar ninguna advertencia. "
     ]
    },
    {
     "cell_type": "code",
     "collapsed": false,
     "input": [
      "%%bash --out last_commit_date \n",
      "cd ~/code/requests\n",
      "git log -1 --format='%at'                                          "
     ],
     "language": "python",
     "metadata": {},
     "outputs": [],
     "prompt_number": 15
    },
    {
     "cell_type": "code",
     "collapsed": false,
     "input": [
      "last_commit_date = last_commit_date.strip()\n",
      "print \"\u00daltimo commit local:\", last_commit_date "
     ],
     "language": "python",
     "metadata": {},
     "outputs": [
      {
       "output_type": "stream",
       "stream": "stdout",
       "text": [
        "\u00daltimo commit local: 1415391521\n"
       ]
      }
     ],
     "prompt_number": 16
    },
    {
     "cell_type": "markdown",
     "metadata": {},
     "source": [
      "Para ver si nuestro \u00faltimo commit es m\u00e1s reciente:"
     ]
    },
    {
     "cell_type": "code",
     "collapsed": false,
     "input": [
      "last_commit_date > last_github_date"
     ],
     "language": "python",
     "metadata": {},
     "outputs": [
      {
       "metadata": {},
       "output_type": "pyout",
       "prompt_number": 17,
       "text": [
        "True"
       ]
      }
     ],
     "prompt_number": 17
    },
    {
     "cell_type": "code",
     "collapsed": false,
     "input": [],
     "language": "python",
     "metadata": {},
     "outputs": []
    }
   ],
   "metadata": {}
  }
 ]
}
